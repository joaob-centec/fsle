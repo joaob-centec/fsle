{
 "cells": [
  {
   "cell_type": "markdown",
   "metadata": {},
   "source": [
    "# PLOT FSLE IN THE WIBUS"
   ]
  },
  {
   "cell_type": "markdown",
   "metadata": {},
   "source": [
    "Script to plot Finite-size Lyapunov Fields in the West Iberia Upwelling System."
   ]
  },
  {
   "cell_type": "markdown",
   "metadata": {},
   "source": [
    "### 1. Modules"
   ]
  },
  {
   "cell_type": "code",
   "execution_count": 1,
   "metadata": {},
   "outputs": [],
   "source": [
    "import xarray as xr\n",
    "import numpy as np\n",
    "import datetime\n",
    "import cartopy.crs as ccrs\n",
    "import cartopy.feature as cfeature\n",
    "import matplotlib.pyplot as plt\n",
    "import matplotlib.ticker as mticker\n",
    "from cartopy.mpl.gridliner import LONGITUDE_FORMATTER, LATITUDE_FORMATTER\n",
    "from pandas import to_datetime\n",
    "import matplotlib.dates\n",
    "import os\n",
    "import glob"
   ]
  },
  {
   "cell_type": "markdown",
   "metadata": {},
   "source": [
    "### 2. Data files"
   ]
  },
  {
   "cell_type": "code",
   "execution_count": 2,
   "metadata": {},
   "outputs": [],
   "source": [
    "## Data file header & tail\n",
    "fFileHeader = \"FSLE_WIbUS_\"\n",
    "fFileTail = \".nc\"\n",
    "\n",
    "## Year to plot\n",
    "fYear = 2000\n",
    "\n",
    "## Get file list from current folder\n",
    "wDir = os.getcwd()\n",
    "fFiles = sorted(glob.glob(wDir + \"/\" + fFileHeader + \"{:d}\".format(fYear) + \"*\" + fFileTail)) "
   ]
  },
  {
   "cell_type": "markdown",
   "metadata": {},
   "source": [
    "### 3. Plot data"
   ]
  },
  {
   "cell_type": "code",
   "execution_count": 16,
   "metadata": {},
   "outputs": [
    {
     "name": "stderr",
     "output_type": "stream",
     "text": [
      "/home/joao/miniconda3/envs/py3_parcels/lib/python3.6/site-packages/cartopy/mpl/geoaxes.py:1665: MatplotlibDeprecationWarning: shading='flat' when X and Y have the same dimensions as C is deprecated since 3.3.  Either specify the corners of the quadrilaterals with X and Y, or pass shading='auto', 'nearest' or 'gouraud', or set rcParams['pcolor.shading'].  This will become an error two minor releases later.\n",
      "  result = matplotlib.axes.Axes.pcolor(self, *args, **kwargs)\n",
      "/home/joao/miniconda3/envs/py3_parcels/lib/python3.6/site-packages/cartopy/mpl/geoaxes.py:388: MatplotlibDeprecationWarning: \n",
      "The 'inframe' parameter of draw() was deprecated in Matplotlib 3.3 and will be removed two minor releases later. Use Axes.redraw_in_frame() instead. If any parameter follows 'inframe', they should be passed as keyword, not positionally.\n",
      "  inframe=inframe)\n",
      "/home/joao/miniconda3/envs/py3_parcels/lib/python3.6/site-packages/cartopy/mpl/geoaxes.py:1665: MatplotlibDeprecationWarning: shading='flat' when X and Y have the same dimensions as C is deprecated since 3.3.  Either specify the corners of the quadrilaterals with X and Y, or pass shading='auto', 'nearest' or 'gouraud', or set rcParams['pcolor.shading'].  This will become an error two minor releases later.\n",
      "  result = matplotlib.axes.Axes.pcolor(self, *args, **kwargs)\n",
      "/home/joao/miniconda3/envs/py3_parcels/lib/python3.6/site-packages/cartopy/mpl/geoaxes.py:388: MatplotlibDeprecationWarning: \n",
      "The 'inframe' parameter of draw() was deprecated in Matplotlib 3.3 and will be removed two minor releases later. Use Axes.redraw_in_frame() instead. If any parameter follows 'inframe', they should be passed as keyword, not positionally.\n",
      "  inframe=inframe)\n",
      "/home/joao/miniconda3/envs/py3_parcels/lib/python3.6/site-packages/cartopy/mpl/geoaxes.py:1665: MatplotlibDeprecationWarning: shading='flat' when X and Y have the same dimensions as C is deprecated since 3.3.  Either specify the corners of the quadrilaterals with X and Y, or pass shading='auto', 'nearest' or 'gouraud', or set rcParams['pcolor.shading'].  This will become an error two minor releases later.\n",
      "  result = matplotlib.axes.Axes.pcolor(self, *args, **kwargs)\n",
      "/home/joao/miniconda3/envs/py3_parcels/lib/python3.6/site-packages/cartopy/mpl/geoaxes.py:388: MatplotlibDeprecationWarning: \n",
      "The 'inframe' parameter of draw() was deprecated in Matplotlib 3.3 and will be removed two minor releases later. Use Axes.redraw_in_frame() instead. If any parameter follows 'inframe', they should be passed as keyword, not positionally.\n",
      "  inframe=inframe)\n",
      "/home/joao/miniconda3/envs/py3_parcels/lib/python3.6/site-packages/cartopy/mpl/geoaxes.py:1665: MatplotlibDeprecationWarning: shading='flat' when X and Y have the same dimensions as C is deprecated since 3.3.  Either specify the corners of the quadrilaterals with X and Y, or pass shading='auto', 'nearest' or 'gouraud', or set rcParams['pcolor.shading'].  This will become an error two minor releases later.\n",
      "  result = matplotlib.axes.Axes.pcolor(self, *args, **kwargs)\n",
      "/home/joao/miniconda3/envs/py3_parcels/lib/python3.6/site-packages/cartopy/mpl/geoaxes.py:388: MatplotlibDeprecationWarning: \n",
      "The 'inframe' parameter of draw() was deprecated in Matplotlib 3.3 and will be removed two minor releases later. Use Axes.redraw_in_frame() instead. If any parameter follows 'inframe', they should be passed as keyword, not positionally.\n",
      "  inframe=inframe)\n",
      "/home/joao/miniconda3/envs/py3_parcels/lib/python3.6/site-packages/cartopy/mpl/geoaxes.py:1665: MatplotlibDeprecationWarning: shading='flat' when X and Y have the same dimensions as C is deprecated since 3.3.  Either specify the corners of the quadrilaterals with X and Y, or pass shading='auto', 'nearest' or 'gouraud', or set rcParams['pcolor.shading'].  This will become an error two minor releases later.\n",
      "  result = matplotlib.axes.Axes.pcolor(self, *args, **kwargs)\n",
      "/home/joao/miniconda3/envs/py3_parcels/lib/python3.6/site-packages/cartopy/mpl/geoaxes.py:388: MatplotlibDeprecationWarning: \n",
      "The 'inframe' parameter of draw() was deprecated in Matplotlib 3.3 and will be removed two minor releases later. Use Axes.redraw_in_frame() instead. If any parameter follows 'inframe', they should be passed as keyword, not positionally.\n",
      "  inframe=inframe)\n",
      "/home/joao/miniconda3/envs/py3_parcels/lib/python3.6/site-packages/cartopy/mpl/geoaxes.py:1665: MatplotlibDeprecationWarning: shading='flat' when X and Y have the same dimensions as C is deprecated since 3.3.  Either specify the corners of the quadrilaterals with X and Y, or pass shading='auto', 'nearest' or 'gouraud', or set rcParams['pcolor.shading'].  This will become an error two minor releases later.\n",
      "  result = matplotlib.axes.Axes.pcolor(self, *args, **kwargs)\n",
      "/home/joao/miniconda3/envs/py3_parcels/lib/python3.6/site-packages/cartopy/mpl/geoaxes.py:388: MatplotlibDeprecationWarning: \n",
      "The 'inframe' parameter of draw() was deprecated in Matplotlib 3.3 and will be removed two minor releases later. Use Axes.redraw_in_frame() instead. If any parameter follows 'inframe', they should be passed as keyword, not positionally.\n",
      "  inframe=inframe)\n",
      "/home/joao/miniconda3/envs/py3_parcels/lib/python3.6/site-packages/cartopy/mpl/geoaxes.py:1665: MatplotlibDeprecationWarning: shading='flat' when X and Y have the same dimensions as C is deprecated since 3.3.  Either specify the corners of the quadrilaterals with X and Y, or pass shading='auto', 'nearest' or 'gouraud', or set rcParams['pcolor.shading'].  This will become an error two minor releases later.\n",
      "  result = matplotlib.axes.Axes.pcolor(self, *args, **kwargs)\n",
      "/home/joao/miniconda3/envs/py3_parcels/lib/python3.6/site-packages/cartopy/mpl/geoaxes.py:388: MatplotlibDeprecationWarning: \n",
      "The 'inframe' parameter of draw() was deprecated in Matplotlib 3.3 and will be removed two minor releases later. Use Axes.redraw_in_frame() instead. If any parameter follows 'inframe', they should be passed as keyword, not positionally.\n",
      "  inframe=inframe)\n",
      "/home/joao/miniconda3/envs/py3_parcels/lib/python3.6/site-packages/cartopy/mpl/geoaxes.py:1665: MatplotlibDeprecationWarning: shading='flat' when X and Y have the same dimensions as C is deprecated since 3.3.  Either specify the corners of the quadrilaterals with X and Y, or pass shading='auto', 'nearest' or 'gouraud', or set rcParams['pcolor.shading'].  This will become an error two minor releases later.\n",
      "  result = matplotlib.axes.Axes.pcolor(self, *args, **kwargs)\n",
      "/home/joao/miniconda3/envs/py3_parcels/lib/python3.6/site-packages/cartopy/mpl/geoaxes.py:388: MatplotlibDeprecationWarning: \n",
      "The 'inframe' parameter of draw() was deprecated in Matplotlib 3.3 and will be removed two minor releases later. Use Axes.redraw_in_frame() instead. If any parameter follows 'inframe', they should be passed as keyword, not positionally.\n",
      "  inframe=inframe)\n",
      "/home/joao/miniconda3/envs/py3_parcels/lib/python3.6/site-packages/cartopy/mpl/geoaxes.py:1665: MatplotlibDeprecationWarning: shading='flat' when X and Y have the same dimensions as C is deprecated since 3.3.  Either specify the corners of the quadrilaterals with X and Y, or pass shading='auto', 'nearest' or 'gouraud', or set rcParams['pcolor.shading'].  This will become an error two minor releases later.\n",
      "  result = matplotlib.axes.Axes.pcolor(self, *args, **kwargs)\n",
      "/home/joao/miniconda3/envs/py3_parcels/lib/python3.6/site-packages/cartopy/mpl/geoaxes.py:388: MatplotlibDeprecationWarning: \n",
      "The 'inframe' parameter of draw() was deprecated in Matplotlib 3.3 and will be removed two minor releases later. Use Axes.redraw_in_frame() instead. If any parameter follows 'inframe', they should be passed as keyword, not positionally.\n",
      "  inframe=inframe)\n",
      "/home/joao/miniconda3/envs/py3_parcels/lib/python3.6/site-packages/cartopy/mpl/geoaxes.py:1665: MatplotlibDeprecationWarning: shading='flat' when X and Y have the same dimensions as C is deprecated since 3.3.  Either specify the corners of the quadrilaterals with X and Y, or pass shading='auto', 'nearest' or 'gouraud', or set rcParams['pcolor.shading'].  This will become an error two minor releases later.\n",
      "  result = matplotlib.axes.Axes.pcolor(self, *args, **kwargs)\n",
      "/home/joao/miniconda3/envs/py3_parcels/lib/python3.6/site-packages/cartopy/mpl/geoaxes.py:388: MatplotlibDeprecationWarning: \n",
      "The 'inframe' parameter of draw() was deprecated in Matplotlib 3.3 and will be removed two minor releases later. Use Axes.redraw_in_frame() instead. If any parameter follows 'inframe', they should be passed as keyword, not positionally.\n",
      "  inframe=inframe)\n",
      "/home/joao/miniconda3/envs/py3_parcels/lib/python3.6/site-packages/cartopy/mpl/geoaxes.py:1665: MatplotlibDeprecationWarning: shading='flat' when X and Y have the same dimensions as C is deprecated since 3.3.  Either specify the corners of the quadrilaterals with X and Y, or pass shading='auto', 'nearest' or 'gouraud', or set rcParams['pcolor.shading'].  This will become an error two minor releases later.\n",
      "  result = matplotlib.axes.Axes.pcolor(self, *args, **kwargs)\n",
      "/home/joao/miniconda3/envs/py3_parcels/lib/python3.6/site-packages/cartopy/mpl/geoaxes.py:388: MatplotlibDeprecationWarning: \n",
      "The 'inframe' parameter of draw() was deprecated in Matplotlib 3.3 and will be removed two minor releases later. Use Axes.redraw_in_frame() instead. If any parameter follows 'inframe', they should be passed as keyword, not positionally.\n",
      "  inframe=inframe)\n",
      "/home/joao/miniconda3/envs/py3_parcels/lib/python3.6/site-packages/cartopy/mpl/geoaxes.py:1665: MatplotlibDeprecationWarning: shading='flat' when X and Y have the same dimensions as C is deprecated since 3.3.  Either specify the corners of the quadrilaterals with X and Y, or pass shading='auto', 'nearest' or 'gouraud', or set rcParams['pcolor.shading'].  This will become an error two minor releases later.\n",
      "  result = matplotlib.axes.Axes.pcolor(self, *args, **kwargs)\n",
      "/home/joao/miniconda3/envs/py3_parcels/lib/python3.6/site-packages/cartopy/mpl/geoaxes.py:388: MatplotlibDeprecationWarning: \n",
      "The 'inframe' parameter of draw() was deprecated in Matplotlib 3.3 and will be removed two minor releases later. Use Axes.redraw_in_frame() instead. If any parameter follows 'inframe', they should be passed as keyword, not positionally.\n",
      "  inframe=inframe)\n"
     ]
    }
   ],
   "source": [
    "## Load FSLE grid data\n",
    "fGridData = xr.open_dataset(fFiles[0]) # Load it from first data file\n",
    "\n",
    "fGridLat = fGridData.latitude\n",
    "fGridLon = fGridData.longitude\n",
    "\n",
    "## Setup plot grid and limits\n",
    "\n",
    "lonG, latG = np.meshgrid(fGridLon, fGridLat)\n",
    "\n",
    "lonMin = lonG.min()\n",
    "lonMax = lonG.max()\n",
    "latMin = latG.min()\n",
    "latMax = latG.max()\n",
    "\n",
    "extent = [lonMin, lonMax, latMin, latMax]\n",
    "\n",
    "# Plot fsle. (This will be a loop but for now we just want to check if it works)\n",
    "\n",
    "resol = '10m'  # use data at this scale\n",
    "bodr = cfeature.NaturalEarthFeature(category='cultural', \n",
    "    name='admin_0_boundary_lines_land', scale=resol, facecolor='none', alpha=0.7)\n",
    "land = cfeature.NaturalEarthFeature('physical', 'land', \\\n",
    "    scale=resol, edgecolor='k', facecolor=cfeature.COLORS['land'])\n",
    "ocean = cfeature.NaturalEarthFeature('physical', 'ocean', \\\n",
    "    scale=resol, edgecolor='none', facecolor=cfeature.COLORS['water'])\n",
    "lakes = cfeature.NaturalEarthFeature('physical', 'lakes', \\\n",
    "    scale=resol, edgecolor='b', facecolor=cfeature.COLORS['water'])\n",
    "rivers = cfeature.NaturalEarthFeature('physical', 'rivers_lake_centerlines', \\\n",
    "    scale=resol, edgecolor='b', facecolor='none')\n",
    "\n",
    "for j in range(len(fFiles)):\n",
    "  fGridData = xr.open_dataset(fFiles[j])\n",
    "\n",
    "  for i in range(fGridData.time.size):\n",
    "\n",
    "    fig = plt.figure(figsize=(10, 20))\n",
    "#ax1 = fig.add_subplot(1, 2, 1, projection=ccrs.PlateCarree())\n",
    "    ax = plt.axes(projection=ccrs.PlateCarree())\n",
    "#ax.coastlines('10m')\n",
    "    ax.set_extent(extent)\n",
    "    ax.add_feature(land, facecolor='beige')\n",
    "#ax.add_feature(ocean, linewidth=0.2 )\n",
    "    ax.add_feature(lakes)\n",
    "    ax.add_feature(rivers, linewidth=0.5)\n",
    "    ax.add_feature(bodr, linestyle='--', edgecolor='k', alpha=1)\n",
    "\n",
    "\n",
    "\n",
    "#ax.add_feature(cfeature.LAND, edgecolor='black')\n",
    "#ax.gridlines(draw_labels=True)\n",
    "    gl = ax.gridlines(crs=ccrs.PlateCarree(), draw_labels=True,\n",
    "                  linewidth=2, color='gray', alpha=0.5, linestyle='--')\n",
    "    gl.xlabels_top = False\n",
    "    gl.ylabels_right = False\n",
    "#gl.xlines = False\n",
    "#gl.xlocator = mticker.FixedLocator([-11, -10, -9, -8, -7])\n",
    "    gl.xformatter = LONGITUDE_FORMATTER\n",
    "    gl.yformatter = LATITUDE_FORMATTER\n",
    "    gl.xlabel_style = {'size': 15}#, 'color': 'gray'}\n",
    "    gl.ylabel_style = {'size': 15}#, 'color': 'gray'}\n",
    "#gl.xlabel_style = {'color': 'red', 'weight': 'bold'}\n",
    "\n",
    "#plt.title(to_datetime(str(fGridData.time[0].values)).strftime('%Y-%m-%d'))\n",
    "    Ttransform = ccrs.PlateCarree()._as_mpl_transform(ax)\n",
    "    an=ax.annotate('FSLE\\n'+to_datetime(str(fGridData.time[i].values)).strftime('%Y-%m-%d'), \n",
    "            xy=(-7.5, 43), xycoords=Ttransform,\n",
    "            ha='center', va='top', fontsize='large', fontweight='bold')\n",
    "# Plot field\n",
    "\n",
    "#fsleData.plot\n",
    "    pc=ax.pcolor(lonG, latG, fGridData.fsle[:,:,i], transform=ccrs.PlateCarree(), \n",
    "                  vmin=0.0, vmax=0.12)#, cbar_kwargs={'orientation':'vertical','shrink':0.15})\n",
    "\n",
    "    cb=plt.colorbar(pc,orientation='vertical',shrink=0.5)\n",
    "    plt.savefig(\"FSLE_WIbUS_\"+to_datetime(str(fGridData.time[i].values)).strftime('%Y%m%d')+\".png\",dpi=150)\n",
    "    plt.close()\n",
    "\n"
   ]
  },
  {
   "cell_type": "code",
   "execution_count": 54,
   "metadata": {},
   "outputs": [
    {
     "data": {
      "text/plain": [
       "'2000-01-01'"
      ]
     },
     "execution_count": 54,
     "metadata": {},
     "output_type": "execute_result"
    }
   ],
   "source": [
    "to_datetime(str(fGridData.time[0].values)).strftime('%Y-%m-%d')"
   ]
  },
  {
   "cell_type": "code",
   "execution_count": 15,
   "metadata": {},
   "outputs": [
    {
     "data": {
      "text/plain": [
       "12"
      ]
     },
     "execution_count": 15,
     "metadata": {},
     "output_type": "execute_result"
    }
   ],
   "source": [
    "len(fFiles)"
   ]
  },
  {
   "cell_type": "code",
   "execution_count": null,
   "metadata": {},
   "outputs": [],
   "source": []
  }
 ],
 "metadata": {
  "kernelspec": {
   "display_name": "Python 3",
   "language": "python",
   "name": "python3"
  },
  "language_info": {
   "codemirror_mode": {
    "name": "ipython",
    "version": 3
   },
   "file_extension": ".py",
   "mimetype": "text/x-python",
   "name": "python",
   "nbconvert_exporter": "python",
   "pygments_lexer": "ipython3",
   "version": "3.6.12"
  }
 },
 "nbformat": 4,
 "nbformat_minor": 4
}
