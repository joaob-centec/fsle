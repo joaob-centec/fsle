{
 "cells": [
  {
   "cell_type": "markdown",
   "metadata": {},
   "source": [
    "### DOWNLOAD OF CMEMS IBI REANALYSIS DATA"
   ]
  },
  {
   "cell_type": "markdown",
   "metadata": {},
   "source": [
    "**Purpose:** Download data from the CMEMS IBI Reanalysis data archive for the Western Iberia Upwelling System, on a monthly basis."
   ]
  },
  {
   "cell_type": "code",
   "execution_count": 1,
   "metadata": {},
   "outputs": [],
   "source": [
    "from motu_utils import motu_api\n",
    "from optparse import OptionParser \n",
    "import datetime\n",
    "#import subprocess"
   ]
  },
  {
   "cell_type": "markdown",
   "metadata": {},
   "source": [
    "**Define data set parameters:**"
   ]
  },
  {
   "cell_type": "code",
   "execution_count": 11,
   "metadata": {},
   "outputs": [],
   "source": [
    "## Region\n",
    "\n",
    "lonMin = -15\n",
    "lonMax = -2\n",
    "latMin = 32\n",
    "latMax = 48\n",
    "\n",
    "depthMin = 0.5056\n",
    "depthMax = 1045.8544\n",
    "\n",
    "## Time frame\n",
    "\n",
    "year=2010\n",
    "monthStart=1\n",
    "monthEnd=12\n",
    "\n",
    "User='jbettencourt1'\n",
    "Pwd='z4hteqnkPxFqN4p_'\n",
    "\n",
    "serviceId = \"IBI_MULTIYEAR_PHY_005_002-TDS\"\n",
    "productId = \"cmems_mod_ibi_phy_my_0.083deg-3D_P1D-m\"\n",
    "\n",
    "variables = ['mlotst', 'so', 'thetao', 'uo', 'vo', 'zos']"
   ]
  },
  {
   "cell_type": "markdown",
   "metadata": {},
   "source": [
    "**Loop on months and download data**"
   ]
  },
  {
   "cell_type": "code",
   "execution_count": 12,
   "metadata": {},
   "outputs": [
    {
     "name": "stdout",
     "output_type": "stream",
     "text": [
      "getting data for 20101\n",
      "  downloading from 2010-01-01 12:00:00 to 2010-01-31 12:00:00 into IBI_MULTIYEAR_PHY_005_002-TDS_201001.nc\n",
      "getting data for 20102\n",
      "  downloading from 2010-02-01 12:00:00 to 2010-02-28 12:00:00 into IBI_MULTIYEAR_PHY_005_002-TDS_201002.nc\n",
      "getting data for 20103\n",
      "  downloading from 2010-03-01 12:00:00 to 2010-03-31 12:00:00 into IBI_MULTIYEAR_PHY_005_002-TDS_201003.nc\n",
      "getting data for 20104\n",
      "  downloading from 2010-04-01 12:00:00 to 2010-04-30 12:00:00 into IBI_MULTIYEAR_PHY_005_002-TDS_201004.nc\n",
      "getting data for 20105\n",
      "  downloading from 2010-05-01 12:00:00 to 2010-05-31 12:00:00 into IBI_MULTIYEAR_PHY_005_002-TDS_201005.nc\n",
      "getting data for 20106\n",
      "  downloading from 2010-06-01 12:00:00 to 2010-06-30 12:00:00 into IBI_MULTIYEAR_PHY_005_002-TDS_201006.nc\n",
      "getting data for 20107\n",
      "  downloading from 2010-07-01 12:00:00 to 2010-07-31 12:00:00 into IBI_MULTIYEAR_PHY_005_002-TDS_201007.nc\n",
      "getting data for 20108\n",
      "  downloading from 2010-08-01 12:00:00 to 2010-08-31 12:00:00 into IBI_MULTIYEAR_PHY_005_002-TDS_201008.nc\n",
      "getting data for 20109\n",
      "  downloading from 2010-09-01 12:00:00 to 2010-09-30 12:00:00 into IBI_MULTIYEAR_PHY_005_002-TDS_201009.nc\n",
      "getting data for 201010\n",
      "  downloading from 2010-10-01 12:00:00 to 2010-10-31 12:00:00 into IBI_MULTIYEAR_PHY_005_002-TDS_201010.nc\n",
      "getting data for 201011\n",
      "  downloading from 2010-11-01 12:00:00 to 2010-11-30 12:00:00 into IBI_MULTIYEAR_PHY_005_002-TDS_201011.nc\n",
      "getting data for 201012\n",
      "  downloading from 2010-12-01 12:00:00 to 2010-12-31 12:00:00 into IBI_MULTIYEAR_PHY_005_002-TDS_201012.nc\n"
     ]
    }
   ],
   "source": [
    "for m in range(monthStart, monthEnd+1):\n",
    "    \n",
    "    print(\"getting data for \" + str(year)+str(m))\n",
    "    \n",
    "    outPath = './'\n",
    "    outName = serviceId + \"_{0:d}{1:02d}.nc\".format(year,m)\n",
    "    \n",
    "    dateMin = datetime.datetime(year,m,1,12,0,0)\n",
    "    mm = m\n",
    "    yy = year\n",
    "    if m == 12:\n",
    "        mm=0\n",
    "        yy=yy+1\n",
    "    \n",
    "    \n",
    "    dateMax = datetime.datetime(yy,mm+1,1,12,0,0)-datetime.timedelta(seconds=86400)\n",
    "    \n",
    "    print(\"  downloading from \" + dateMin.strftime('%Y-%m-%d %H:%M:%S') + \" to \" + \n",
    "             dateMax.strftime('%Y-%m-%d %H:%M:%S') + \" into \" + outName)\n",
    "    \n",
    "    \n",
    "    #print(outName)\n",
    "    options = {'log_level': None, 'user': User, 'pwd': Pwd,\n",
    "                'auth_mode': 'cas', 'proxy':False, 'proxy_server': None,\n",
    "                'proxy_user': None, 'proxy_pwd': None,\n",
    "                'motu': 'http://my.cmems-du.eu/motu-web/Motu',\n",
    "                'service_id':serviceId,\n",
    "                'product_id': productId, 'date_min': dateMin.strftime('%Y-%m-%d %H:%M:%S'),\n",
    "                'date_max': dateMax.strftime('%Y-%m-%d %H:%M:%S'),\n",
    "                'latitude_min': latMin, 'latitude_max': latMax,\n",
    "                'longitude_min': lonMin, 'longitude_max': lonMax, 'depth_min': depthMin,\n",
    "                'depth_max': depthMax, 'variable': variables, 'sync': None,\n",
    "                'describe': None, 'size': None, 'out_dir': outPath,\n",
    "                'out_name': outName,\n",
    "                'block_size': 65536, 'socket_timeout': None, 'user_agent': None, 'outputWritten': None,\n",
    "                'console_mode': None, 'config_file': None}\n",
    "\n",
    "    # we create a fake option parser because this is what the motu api expects:\n",
    "    # a parsed result from optionparser rather than a normal dict\n",
    "    op = OptionParser()\n",
    "    for o in options:\n",
    "         op.add_option('--'+o, dest=o, default=options[o])\n",
    "         (_options, args) = op.parse_args(args=['program'])\n",
    " \n",
    "    motu_api.execute_request(_options)"
   ]
  },
  {
   "cell_type": "code",
   "execution_count": null,
   "metadata": {},
   "outputs": [],
   "source": []
  },
  {
   "cell_type": "code",
   "execution_count": null,
   "metadata": {},
   "outputs": [],
   "source": []
  }
 ],
 "metadata": {
  "kernelspec": {
   "display_name": "Python 3",
   "language": "python",
   "name": "python3"
  },
  "language_info": {
   "codemirror_mode": {
    "name": "ipython",
    "version": 3
   },
   "file_extension": ".py",
   "mimetype": "text/x-python",
   "name": "python",
   "nbconvert_exporter": "python",
   "pygments_lexer": "ipython3",
   "version": "3.6.12"
  }
 },
 "nbformat": 4,
 "nbformat_minor": 4
}
